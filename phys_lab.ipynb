{
 "cells": [
  {
   "cell_type": "markdown",
   "metadata": {},
   "source": [
    "# Python Imports\n",
    "\n",
    "These python imports are used to do our graphing and math calculation. "
   ]
  },
  {
   "cell_type": "code",
   "execution_count": 127,
   "metadata": {},
   "outputs": [],
   "source": [
    "import numpy as np                  # Math import\n",
    "import matplotlib.pyplot as plt     # Plot import "
   ]
  },
  {
   "cell_type": "markdown",
   "metadata": {},
   "source": [
    "# Data\n",
    "\n",
    "This section will deal with getting the mean, standard deviation, and the standard deviation of uncertainty. "
   ]
  },
  {
   "cell_type": "markdown",
   "metadata": {},
   "source": [
    "## Collected Data\n",
    "\n",
    "This is our sample data from our experiements. Sample a is the time taken from a height of 144 inches. Sample b is the time taken from a height of 54.5 inches."
   ]
  },
  {
   "cell_type": "code",
   "execution_count": 128,
   "metadata": {},
   "outputs": [],
   "source": [
    "sample_a = [0.8,0.9,0.8]          # These are our times from 144 inches. Values stored in sample_a.\n",
    "sample_b = [0.6,0.5,0.5]          # These are our times from 54.5 inches. Values stored in sample_b. "
   ]
  },
  {
   "cell_type": "markdown",
   "metadata": {},
   "source": [
    "## Getting the mean\n",
    "\n",
    "We will use our numpy import to call the built in mean function for both samples. We will then store the mean value in variable a_mean and b_mean. "
   ]
  },
  {
   "cell_type": "code",
   "execution_count": 129,
   "metadata": {},
   "outputs": [],
   "source": [
    "a_mean = np.mean(sample_a)          # Calculates the mean of our first sample. Stores the value in a_mean. \n",
    "b_mean = np.mean(sample_b)          # Calculates the mean of our second sample. Stores the value in b_mean."
   ]
  },
  {
   "cell_type": "markdown",
   "metadata": {},
   "source": [
    "## Getting the Standard Deviation\n",
    "\n",
    "We will use our numpy import to call the built in standard deviation function for both samples. We will then store the data in variables a_stdev and b_stdev."
   ]
  },
  {
   "cell_type": "code",
   "execution_count": 130,
   "metadata": {},
   "outputs": [],
   "source": [
    "a_stdev = np.std(sample_a)          # Calculates the standard deviation of our first sample. Stores the value in a_stdev.\n",
    "b_stdev = np.std(sample_b)          # Calculates the standard deviation of our second sample. Stores the values in b_stdev."
   ]
  },
  {
   "cell_type": "markdown",
   "metadata": {},
   "source": [
    "## Getting the Standard Deviation of Uncertainty\n",
    "\n",
    "First, we need to know how many trials we preformed so we use pythons built-in length function to get the length of our array's sample_a and sample_b. We store those values in a_numTrials and b_numTrials. \n",
    "\n",
    "Once we have that data, we will divide our standard deviation by the square root of our number of trials. We will use our numpy import to call the built in square root function for both samples on the variables a_numTrials and b_numTrials. Our final answers will be stored in a_stdunc and b_stdunc. "
   ]
  },
  {
   "cell_type": "code",
   "execution_count": 131,
   "metadata": {},
   "outputs": [],
   "source": [
    "a_numTrials = len(sample_a)         # Calcuates the number of trials for our first sample. Stored in variable a_numTrials.\n",
    "b_numTrials = len(sample_b)         # Calculates the number of trials for our second sample. Stored in variable b_numTrials. "
   ]
  },
  {
   "cell_type": "code",
   "execution_count": 132,
   "metadata": {},
   "outputs": [],
   "source": [
    "a_stdunc = a_stdev / np.sqrt(a_numTrials)  # Calculates the standard deviation of uncertainty for our first sample. Stored in variable a_stdunc. \n",
    "b_stdunc = b_stdev / np.sqrt(b_numTrials)  # Calculates tbe standard deviation of uncertainty for our second sample. Stored in variable b_stdunc. "
   ]
  },
  {
   "cell_type": "markdown",
   "metadata": {},
   "source": [
    "# Results\n",
    "\n",
    "This section prints our all of our data for the user to see."
   ]
  },
  {
   "cell_type": "code",
   "execution_count": 133,
   "metadata": {},
   "outputs": [
    {
     "name": "stdout",
     "output_type": "stream",
     "text": [
      "\t\tData Values\n",
      "===========================================\n",
      "\n",
      "\n",
      "Sample A Mean: 0.8333333333333334\n",
      "Sample B Mean: 0.5333333333333333\n",
      "\n",
      "Sample A Standard Deviation: 0.04714045207910316\n",
      "Sample B Standard Deviation: 0.04714045207910316\n",
      "\n",
      "Sample A Standard Deviation of Uncertainty: 0.027216552697590865\n",
      "Sample B Standard Deviation of Uncertainty: 0.027216552697590865\n"
     ]
    }
   ],
   "source": [
    "print(\"\\t\\tData Values\")\n",
    "print(\"===========================================\\n\\n\")\n",
    "\n",
    "print(\"Sample A Mean: \" + str(a_mean))\n",
    "print(\"Sample B Mean: \" + str(b_mean))\n",
    "print()\n",
    "print(\"Sample A Standard Deviation: \" + str(a_stdev))\n",
    "print(\"Sample B Standard Deviation: \" + str(b_stdev))\n",
    "print()\n",
    "print(\"Sample A Standard Deviation of Uncertainty: \" + str(a_stdunc))\n",
    "print(\"Sample B Standard Deviation of Uncertainty: \" + str(b_stdunc))"
   ]
  },
  {
   "cell_type": "markdown",
   "metadata": {},
   "source": [
    "# Calculating T'\n",
    "\n",
    "This section will take our mean data and our standard deviation of uncertainty to calculate our t prime. \n",
    "\n",
    "First we must subract our sample_a and sample_b means. Then, we will divide that result by the square root of our standard deviations of uncertanty for both sample_a and sample_b. Both sample_a and sample_b standard deviation of uncertainty will be squared individually. \n",
    "\n",
    "We will use our numpy import to call the built in square root function for both samples on the variables a_stdunc and b_stdunc.\n",
    "\n",
    "Finally, we will print our result. "
   ]
  },
  {
   "cell_type": "code",
   "execution_count": 134,
   "metadata": {},
   "outputs": [],
   "source": [
    "t_prime = (a_mean - b_mean) / np.sqrt(a_stdunc**2 + b_stdunc**2)  # Calculates the t prime for our data set. "
   ]
  },
  {
   "cell_type": "code",
   "execution_count": 135,
   "metadata": {},
   "outputs": [
    {
     "name": "stdout",
     "output_type": "stream",
     "text": [
      "Our t' is 7.794228634059949\n"
     ]
    }
   ],
   "source": [
    "print(\"Our t' is \" + str(t_prime))"
   ]
  }
 ],
 "metadata": {
  "kernelspec": {
   "display_name": "Python 3",
   "language": "python",
   "name": "python3"
  },
  "language_info": {
   "codemirror_mode": {
    "name": "ipython",
    "version": 3
   },
   "file_extension": ".py",
   "mimetype": "text/x-python",
   "name": "python",
   "nbconvert_exporter": "python",
   "pygments_lexer": "ipython3",
   "version": "3.8.3"
  },
  "toc": {
   "base_numbering": 1,
   "nav_menu": {
    "height": "259px",
    "width": "480px"
   },
   "number_sections": true,
   "sideBar": true,
   "skip_h1_title": false,
   "title_cell": "Table of Contents",
   "title_sidebar": "Contents",
   "toc_cell": false,
   "toc_position": {
    "height": "calc(100% - 180px)",
    "left": "10px",
    "top": "150px",
    "width": "288px"
   },
   "toc_section_display": true,
   "toc_window_display": true
  }
 },
 "nbformat": 4,
 "nbformat_minor": 4
}
